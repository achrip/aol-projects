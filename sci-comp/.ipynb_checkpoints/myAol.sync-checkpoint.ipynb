{
 "cells": [
  {
   "cell_type": "markdown",
   "id": "eb54192e",
   "metadata": {},
   "source": [
    "The relationship between the average temperature on the earth's surface in odd years between 1981 - 1999, is given by the following below:\n",
    "| Year(y) | Temperature(x, °C) | \n",
    "|---------|--------------------|\n",
    "|1981| 14.1999|\n",
    "|1983| 14.2411|"
   ]
  }
 ],
 "metadata": {
  "kernelspec": {
   "display_name": "Python 3 (ipykernel)",
   "language": "python",
   "name": "python3"
  },
  "language_info": {
   "codemirror_mode": {
    "name": "ipython",
    "version": 3
   },
   "file_extension": ".py",
   "mimetype": "text/x-python",
   "name": "python",
   "nbconvert_exporter": "python",
   "pygments_lexer": "ipython3",
   "version": "3.11.2"
  }
 },
 "nbformat": 4,
 "nbformat_minor": 5
}
