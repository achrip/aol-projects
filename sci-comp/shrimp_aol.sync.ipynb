{
 "cells": [
  {
   "cell_type": "code",
   "execution_count": 1,
   "id": "5ce0971a",
   "metadata": {},
   "outputs": [
    {
     "name": "stdout",
     "output_type": "stream",
     "text": [
      "hello, beem\n"
     ]
    }
   ],
   "source": [
    "print('hello, beem')"
   ]
  },
  {
   "cell_type": "code",
   "execution_count": 6,
   "id": "8ae3308a",
   "metadata": {},
   "outputs": [],
   "source": [
    "import seaborn as sns"
   ]
  },
  {
   "cell_type": "code",
   "execution_count": 3,
   "id": "9fcce81d",
   "metadata": {},
   "outputs": [],
   "source": [
    "import numpy as np\n",
    "import matplotlib.pyplot as plt"
   ]
  },
  {
   "cell_type": "code",
   "execution_count": 4,
   "id": "81889156",
   "metadata": {},
   "outputs": [],
   "source": [
    "a = 0\n",
    "b = 9\n",
    "\n",
    "n = 5000\n",
    "\n",
    "h = (b-a)/(n-1)\n",
    "\n",
    "x = np.linspace(a, b, n)"
   ]
  },
  {
   "cell_type": "code",
   "execution_count": null,
   "id": "5b566916",
   "metadata": {},
   "outputs": [],
   "source": [
    "\n",
    "++++"
   ]
  }
 ],
 "metadata": {
  "kernelspec": {
   "display_name": "Python 3 (ipykernel)",
   "language": "python",
   "name": "python3"
  },
  "language_info": {
   "codemirror_mode": {
    "name": "ipython",
    "version": 3
   },
   "file_extension": ".py",
   "mimetype": "text/x-python",
   "name": "python",
   "nbconvert_exporter": "python",
   "pygments_lexer": "ipython3",
   "version": "3.11.2"
  }
 },
 "nbformat": 4,
 "nbformat_minor": 5
}
